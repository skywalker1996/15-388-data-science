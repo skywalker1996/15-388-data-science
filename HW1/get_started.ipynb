{
 "cells": [
  {
   "cell_type": "markdown",
   "metadata": {},
   "source": [
    "# Getting started (20 pts)\n",
    "\n",
    "To get used to the submission of Jupyter notebooks, fill in the following function signatures according to their specifications. Upon finishing this section, submit your notebook to Autolab and you can view your grade. We are not looking for complicated solutions. "
   ]
  },
  {
   "cell_type": "code",
   "execution_count": 5,
   "metadata": {},
   "outputs": [],
   "source": [
    "# rotate(l,n) takes a list l and an integer n, and returns a new list with the first n elements moved to the end. \n",
    "#\n",
    "# Example: \n",
    "#   rotate([1,2,3,4], 3) -> [4,1,2,3]\n",
    "\n",
    "def rotate_list(l, n):\n",
    "    # Write solution here\n",
    "    buf = l[n:]\n",
    "    for i in range(n):\n",
    "        buf.append(l[i])\n",
    "    return buf\n",
    "    \n",
    "# reverse_dict(d) takes a dictionary d, and returns a new dictionary with the keys and values swapped.\n",
    "# Assume all values of the given dictionary are unique, i.e. don't worry about conflicting keys. \n",
    "#\n",
    "# Example: \n",
    "#   reverse_dict({\"apple\" : \"red\", \"banana\" : \"yellow\"}) -> {\"red\" : \"apple\", \"yellow\" : \"banana\"}\n",
    "def reverse_dict(d):\n",
    "    # Write solution here\n",
    "    for key in d.keys():\n",
    "        buf = key\n",
    "        d[d[key]] = key\n",
    "        del d[key]\n",
    "    return d\n"
   ]
  },
  {
   "cell_type": "markdown",
   "metadata": {},
   "source": [
    "### Autolab Macros\n",
    "\n",
    "To allow you to write your own testing code, we provide the two macros which you may use to hide code from the autograder (e.g. tests or exploratory code) so that you don't need to manually clean notebooks prior to submission. \n",
    "\n",
    "Namely, all code between `AUTOLAB_IGNORE_START` and `AUTOLAB_IGNORE_STOP` will be ignored, so you can safely submit the notebook with the following cell.  "
   ]
  },
  {
   "cell_type": "code",
   "execution_count": 1,
   "metadata": {},
   "outputs": [
    {
     "ename": "SyntaxError",
     "evalue": "invalid syntax (<ipython-input-1-1cf057aba952>, line 2)",
     "output_type": "error",
     "traceback": [
      "\u001b[0;36m  File \u001b[0;32m\"<ipython-input-1-1cf057aba952>\"\u001b[0;36m, line \u001b[0;32m2\u001b[0m\n\u001b[0;31m    This text will be completely ignored on autolab, even if it doesn't follow proper syntax!\u001b[0m\n\u001b[0m            ^\u001b[0m\n\u001b[0;31mSyntaxError\u001b[0m\u001b[0;31m:\u001b[0m invalid syntax\n"
     ]
    }
   ],
   "source": [
    "# AUTOLAB_IGNORE_START\n",
    "This text will be completely ignored on autolab, even if it doesn't follow proper syntax!\n",
    "# AUTOLAB_IGNORE_STOP"
   ]
  },
  {
   "cell_type": "markdown",
   "metadata": {},
   "source": [
    "As a simple exercise, the following line will cause your notebook to throw an error and fail to run on Autolab. Rather than deleting it, you can surround it with macros. "
   ]
  },
  {
   "cell_type": "code",
   "execution_count": 1,
   "metadata": {},
   "outputs": [
    {
     "ename": "AssertionError",
     "evalue": "",
     "output_type": "error",
     "traceback": [
      "\u001b[0;31m---------------------------------------------------------------------------\u001b[0m",
      "\u001b[0;31mAssertionError\u001b[0m                            Traceback (most recent call last)",
      "\u001b[0;32m<ipython-input-1-6e6df518a476>\u001b[0m in \u001b[0;36m<module>\u001b[0;34m()\u001b[0m\n\u001b[0;32m----> 1\u001b[0;31m \u001b[0;32massert\u001b[0m \u001b[0;32mFalse\u001b[0m\u001b[0;34m\u001b[0m\u001b[0m\n\u001b[0m",
      "\u001b[0;31mAssertionError\u001b[0m: "
     ]
    }
   ],
   "source": [
    "assert False\n"
   ]
  },
  {
   "cell_type": "code",
   "execution_count": null,
   "metadata": {
    "collapsed": true
   },
   "outputs": [],
   "source": []
  }
 ],
 "metadata": {
  "anaconda-cloud": {},
  "kernelspec": {
   "display_name": "Python 3",
   "language": "python",
   "name": "python3"
  },
  "language_info": {
   "codemirror_mode": {
    "name": "ipython",
    "version": 3
   },
   "file_extension": ".py",
   "mimetype": "text/x-python",
   "name": "python",
   "nbconvert_exporter": "python",
   "pygments_lexer": "ipython3",
   "version": "3.6.3"
  }
 },
 "nbformat": 4,
 "nbformat_minor": 1
}
